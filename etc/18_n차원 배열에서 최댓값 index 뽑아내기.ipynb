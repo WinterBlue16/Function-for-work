{
 "cells": [
  {
   "cell_type": "markdown",
   "metadata": {},
   "source": [
    "# n차원 배열에서 최댓값 index 뽑아내기\n",
    "> numpy array 배열에서 최댓값을 찾고, 그 index를 뽑아내는 함수"
   ]
  },
  {
   "cell_type": "code",
   "execution_count": 1,
   "metadata": {
    "scrolled": true
   },
   "outputs": [
    {
     "data": {
      "text/plain": [
       "array([932, 377, 695, 365, 573, 403, 859, 949, 486, 307, 939, 676, 852,\n",
       "       409,  67, 326, 605,   9, 125, 344, 810, 463, 839, 120, 539, 624,\n",
       "       612, 587, 671,  33, 865,  11, 783, 890, 107, 541, 937, 774, 515,\n",
       "       760, 640, 778, 466, 849, 480, 370, 793, 667, 203, 329, 770, 265,\n",
       "       781, 775, 351, 809, 836, 324, 522, 928, 464, 535, 220,  31, 534,\n",
       "       134, 824, 982, 339, 841, 888, 964, 489,  32,  12, 876, 921, 806,\n",
       "       677, 899, 787, 335, 399, 772, 967, 250, 462, 330, 965, 794, 649,\n",
       "       131,  72, 137, 215, 258, 448, 231, 180, 808, 328, 566,  47, 311,\n",
       "       990, 594, 609, 882, 940, 776, 236,  44, 304,  37, 705, 298,  19,\n",
       "       596, 272, 346, 626, 762,  46, 431, 288, 146, 270, 504, 740, 564,\n",
       "       581, 975, 183, 286, 700, 293,   6, 988,  64,  88, 678, 771, 968,\n",
       "        56, 546, 126, 398, 537, 754, 327, 561, 563, 523, 424, 156, 862,\n",
       "       273, 920, 684, 763, 108, 697, 866, 274, 555, 593,  97, 383, 840,\n",
       "       488, 277,  16, 884, 202, 983, 823, 269, 744, 367, 133, 646, 926,\n",
       "       648, 205,  45, 160, 197, 225, 714, 887, 513, 732, 359, 276, 115,\n",
       "       893, 495, 956, 720, 792, 532,  36,  85, 121, 493, 855, 702, 942,\n",
       "       998, 517, 724, 124, 247, 451, 656, 331, 129,  59, 182, 766, 606,\n",
       "       248, 319, 395,  91,  26, 542,  92,   5, 316, 106, 717, 972, 844,\n",
       "       200, 554,  41, 396, 984, 317, 572, 599, 281, 415, 260, 715, 821,\n",
       "        78, 455, 427, 364, 152, 901, 371, 846, 512, 557, 623, 400, 659,\n",
       "       264, 178, 109, 954, 917, 636,  99, 543, 391, 553, 673, 214, 881,\n",
       "       680, 556, 114, 966, 470,  94, 807, 402, 751, 830, 851, 733, 784,\n",
       "       545, 361, 978, 863, 210, 603,  68, 297, 918, 878, 742, 290, 725,\n",
       "       699, 615, 798, 323, 219, 653, 165, 869, 119, 958, 279, 112, 255,\n",
       "       698, 459, 871,  29, 254, 340, 308,  17, 857, 484, 211, 814, 511,\n",
       "        74, 155, 755, 721, 627, 379, 501, 592, 670, 149, 936, 987, 945,\n",
       "       186, 616, 574, 687, 617, 756, 902, 598, 923,  49, 452, 246, 789,\n",
       "       241, 476, 208, 366, 140, 283, 706, 870, 300, 718, 980, 393, 530,\n",
       "       417, 284, 625, 487, 735, 174, 198, 767, 518, 116, 654, 585, 301,\n",
       "       818, 692, 239, 384, 257, 461, 696, 524, 856, 960, 749, 741, 296,\n",
       "       568, 266, 838,  50, 628, 234, 190, 833, 216,  38, 894, 619, 159,\n",
       "       161, 406, 408, 249, 233, 904, 538, 963, 100,  13, 935, 879, 562,\n",
       "       690, 916, 213, 710, 803, 558, 433, 426, 315, 931, 571, 591,  86,\n",
       "       597, 736, 169, 151, 644,   8, 620, 777, 332, 764, 812, 912, 548,\n",
       "       271, 111,  98, 413, 674, 221, 439, 974, 668, 911, 252, 847, 102,\n",
       "       750,  25, 148, 681, 238, 797, 860, 259, 390, 996,  27, 158, 711,\n",
       "       953, 590, 834, 759, 638, 712, 633, 491, 226, 743, 955, 709, 693,\n",
       "       738, 192, 162, 291, 713, 927, 454, 503,  90, 947,  39,  62, 369,\n",
       "        84, 345, 577, 630, 877, 675])"
      ]
     },
     "execution_count": 1,
     "metadata": {},
     "output_type": "execute_result"
    }
   ],
   "source": [
    "# 라이브러리 불러오기\n",
    "import numpy as np \n",
    "import random\n",
    "\n",
    "sample_li2 = list(range(1000)) # 리스트 생성\n",
    "sample_li2 = random.sample(sample_li2, 500) # 1000개의 숫자 중 무작위로 500개 추출해 리스트로 만듦\n",
    "sample_li2 = np.array(sample_li2) # numpy array로 변환\n",
    "sample_li2"
   ]
  },
  {
   "cell_type": "code",
   "execution_count": 2,
   "metadata": {},
   "outputs": [
    {
     "data": {
      "text/plain": [
       "998"
      ]
     },
     "execution_count": 2,
     "metadata": {},
     "output_type": "execute_result"
    }
   ],
   "source": [
    "# 최댓값 확인하기\n",
    "max_li = np.max(sample_li2)\n",
    "max_li"
   ]
  },
  {
   "cell_type": "markdown",
   "metadata": {},
   "source": [
    "최댓값은 998입니다. 이러한 최댓값의 index는 np.argmax를 통해 뽑아낼 수 있습니다."
   ]
  },
  {
   "cell_type": "code",
   "execution_count": 4,
   "metadata": {},
   "outputs": [
    {
     "data": {
      "text/plain": [
       "208"
      ]
     },
     "execution_count": 4,
     "metadata": {},
     "output_type": "execute_result"
    }
   ],
   "source": [
    "# 최댓값의 index 뽑아내기 \n",
    "max_idx = np.argmax(sample_li2)\n",
    "max_idx"
   ]
  },
  {
   "cell_type": "markdown",
   "metadata": {},
   "source": [
    "index가 208이라 나왔습니다. np.where를 통해 해당 index 값이 맞는지 확인해보겠습니다."
   ]
  },
  {
   "cell_type": "code",
   "execution_count": 5,
   "metadata": {},
   "outputs": [
    {
     "data": {
      "text/plain": [
       "(array([208], dtype=int64),)"
      ]
     },
     "execution_count": 5,
     "metadata": {},
     "output_type": "execute_result"
    }
   ],
   "source": [
    "# index 값 확인하기\n",
    "max_idx = np.where(sample_li2==998) # 값이 998인 item의 index를 반환\n",
    "max_idx"
   ]
  },
  {
   "cell_type": "markdown",
   "metadata": {},
   "source": [
    "index 값이 일치하는 것을 확인할 수 있습니다. 이번에는 2차원 배열에서도 적용할 수 있는지 보겠습니다. 무작위 배열을 생성하기 위해 이번에는 먼저 리스트를 작성하고 변환하는 것이 아닌, random.random 함수를 사용하겠습니다."
   ]
  },
  {
   "cell_type": "code",
   "execution_count": 6,
   "metadata": {},
   "outputs": [
    {
     "data": {
      "text/plain": [
       "array([[0.59543381, 0.22452867, 0.98197496, 0.2707333 , 0.57917919],\n",
       "       [0.01624734, 0.61057729, 0.86482696, 0.50893321, 0.96918831]])"
      ]
     },
     "execution_count": 6,
     "metadata": {},
     "output_type": "execute_result"
    }
   ],
   "source": [
    "sample_li = np.random.random(size=(2,5))\n",
    "sample_li"
   ]
  },
  {
   "cell_type": "code",
   "execution_count": 7,
   "metadata": {},
   "outputs": [
    {
     "data": {
      "text/plain": [
       "2"
      ]
     },
     "execution_count": 7,
     "metadata": {},
     "output_type": "execute_result"
    }
   ],
   "source": [
    "max_idx = np.argmax(sample_li)\n",
    "max_idx"
   ]
  },
  {
   "cell_type": "markdown",
   "metadata": {},
   "source": [
    "뭔가 이상합니다. 3차원 배열의 예로도 실험해보겠습니다. 이번엔 최댓값을 미리 구해보죠."
   ]
  },
  {
   "cell_type": "code",
   "execution_count": 8,
   "metadata": {},
   "outputs": [
    {
     "data": {
      "text/plain": [
       "array([[0.29675798, 0.59401098, 0.53726415, 0.02265291, 0.60105062],\n",
       "       [0.49993979, 0.05902082, 0.10896415, 0.20982479, 0.86586717],\n",
       "       [0.56235554, 0.97958424, 0.89860874, 0.15069784, 0.01653617]])"
      ]
     },
     "execution_count": 8,
     "metadata": {},
     "output_type": "execute_result"
    }
   ],
   "source": [
    "sample_li = np.random.random(size=(3,5))\n",
    "sample_li"
   ]
  },
  {
   "cell_type": "code",
   "execution_count": 9,
   "metadata": {},
   "outputs": [
    {
     "data": {
      "text/plain": [
       "0.9795842390361786"
      ]
     },
     "execution_count": 9,
     "metadata": {},
     "output_type": "execute_result"
    }
   ],
   "source": [
    "max_li = np.max(sample_li)\n",
    "max_li"
   ]
  },
  {
   "cell_type": "code",
   "execution_count": 10,
   "metadata": {},
   "outputs": [
    {
     "data": {
      "text/plain": [
       "11"
      ]
     },
     "execution_count": 10,
     "metadata": {},
     "output_type": "execute_result"
    }
   ],
   "source": [
    "max_idx = np.argmax(sample_li)\n",
    "max_idx"
   ]
  },
  {
   "cell_type": "markdown",
   "metadata": {},
   "source": [
    "다차원 배열에서 index가 하나의 값으로 나오는 건 이상한 일입니다. np.where를 써서 확인해보겠습니다. "
   ]
  },
  {
   "cell_type": "code",
   "execution_count": 12,
   "metadata": {},
   "outputs": [
    {
     "data": {
      "text/plain": [
       "(array([2], dtype=int64), array([1], dtype=int64))"
      ]
     },
     "execution_count": 12,
     "metadata": {},
     "output_type": "execute_result"
    }
   ],
   "source": [
    "max_idx = np.where(sample_li==max_li)\n",
    "max_idx"
   ]
  },
  {
   "cell_type": "markdown",
   "metadata": {},
   "source": [
    "이건 무슨 뜻일까요? index번호가 2인 행의 두 번째 item이라는 것일까요? 확인해보겠습니다."
   ]
  },
  {
   "cell_type": "code",
   "execution_count": 13,
   "metadata": {},
   "outputs": [
    {
     "data": {
      "text/plain": [
       "0.9795842390361786"
      ]
     },
     "execution_count": 13,
     "metadata": {},
     "output_type": "execute_result"
    }
   ],
   "source": [
    "sample_li[2][1]"
   ]
  },
  {
   "cell_type": "markdown",
   "metadata": {},
   "source": [
    "추측이 맞음을 알 수 있습니다. 그러나 왜 np.argmax의 값이 11로 나왔는지는 아직 모르겠습니다. 이를 알아내기 위해 sample_li를 list로 바꾸어 보겠습니다. 해당 작업에는 np.ravel 함수와 tolist 함수가 함수가 필요합니다."
   ]
  },
  {
   "cell_type": "code",
   "execution_count": 15,
   "metadata": {},
   "outputs": [
    {
     "data": {
      "text/plain": [
       "array([0.29675798, 0.59401098, 0.53726415, 0.02265291, 0.60105062,\n",
       "       0.49993979, 0.05902082, 0.10896415, 0.20982479, 0.86586717,\n",
       "       0.56235554, 0.97958424, 0.89860874, 0.15069784, 0.01653617])"
      ]
     },
     "execution_count": 15,
     "metadata": {},
     "output_type": "execute_result"
    }
   ],
   "source": [
    "arrtoli = np.ravel(sample_li) # 3차원 배열을 1차원으로 변환\n",
    "arrtoli"
   ]
  },
  {
   "cell_type": "code",
   "execution_count": 16,
   "metadata": {},
   "outputs": [
    {
     "data": {
      "text/plain": [
       "[0.2967579756845099,\n",
       " 0.5940109770320633,\n",
       " 0.5372641513440417,\n",
       " 0.022652906746921664,\n",
       " 0.6010506225010077,\n",
       " 0.49993978644722037,\n",
       " 0.059020823278518986,\n",
       " 0.10896414832087686,\n",
       " 0.2098247895511336,\n",
       " 0.8658671701483164,\n",
       " 0.562355543247731,\n",
       " 0.9795842390361786,\n",
       " 0.8986087385025636,\n",
       " 0.15069783956399085,\n",
       " 0.01653617130651963]"
      ]
     },
     "execution_count": 16,
     "metadata": {},
     "output_type": "execute_result"
    }
   ],
   "source": [
    "arrtoli = arrtoli.tolist() # 1차원 배열을 list로 변환\n",
    "arrtoli"
   ]
  },
  {
   "cell_type": "code",
   "execution_count": 18,
   "metadata": {},
   "outputs": [
    {
     "data": {
      "text/plain": [
       "11"
      ]
     },
     "execution_count": 18,
     "metadata": {},
     "output_type": "execute_result"
    }
   ],
   "source": [
    "max_li = max(arrtoli) # list에서 최댓값 뽑아내기\n",
    "max_li = arrtoli.index(max_li) # 최댓값의 index 찾기\n",
    "max_li"
   ]
  },
  {
   "cell_type": "markdown",
   "metadata": {},
   "source": [
    "결과에서 알 수 있듯이, np.argmax는 배열 내 최댓값의 index를 반환하지만 n차원 배열도 1차원 배열처럼 간주하여 index 값을 돌려줍니다. 정확한 index를 알고 싶다면 np.where를 쓰는 것이 더 도움이 될 것입니다."
   ]
  },
  {
   "cell_type": "code",
   "execution_count": null,
   "metadata": {},
   "outputs": [],
   "source": []
  }
 ],
 "metadata": {
  "kernelspec": {
   "display_name": "Python 3",
   "language": "python",
   "name": "python3"
  },
  "language_info": {
   "codemirror_mode": {
    "name": "ipython",
    "version": 3
   },
   "file_extension": ".py",
   "mimetype": "text/x-python",
   "name": "python",
   "nbconvert_exporter": "python",
   "pygments_lexer": "ipython3",
   "version": "3.7.3"
  }
 },
 "nbformat": 4,
 "nbformat_minor": 2
}
