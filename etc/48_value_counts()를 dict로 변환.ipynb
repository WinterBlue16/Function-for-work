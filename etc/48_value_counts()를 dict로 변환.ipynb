{
 "cells": [
  {
   "cell_type": "code",
   "execution_count": 2,
   "metadata": {},
   "outputs": [
    {
     "data": {
      "text/html": [
       "<div>\n",
       "<style scoped>\n",
       "    .dataframe tbody tr th:only-of-type {\n",
       "        vertical-align: middle;\n",
       "    }\n",
       "\n",
       "    .dataframe tbody tr th {\n",
       "        vertical-align: top;\n",
       "    }\n",
       "\n",
       "    .dataframe thead th {\n",
       "        text-align: right;\n",
       "    }\n",
       "</style>\n",
       "<table border=\"1\" class=\"dataframe\">\n",
       "  <thead>\n",
       "    <tr style=\"text-align: right;\">\n",
       "      <th></th>\n",
       "      <th>title</th>\n",
       "      <th>writer</th>\n",
       "      <th>url</th>\n",
       "      <th>likes</th>\n",
       "    </tr>\n",
       "  </thead>\n",
       "  <tbody>\n",
       "    <tr>\n",
       "      <th>0</th>\n",
       "      <td>하이에나 (1)</td>\n",
       "      <td>칸</td>\n",
       "      <td>https://hykanena.postype.com/post/6574551</td>\n",
       "      <td>61</td>\n",
       "    </tr>\n",
       "    <tr>\n",
       "      <th>1</th>\n",
       "      <td>[금자희재] HB</td>\n",
       "      <td>이즈</td>\n",
       "      <td>https://if-yourworld-fallsapart.postype.com/po...</td>\n",
       "      <td>61</td>\n",
       "    </tr>\n",
       "    <tr>\n",
       "      <th>2</th>\n",
       "      <td>[금자희재/희재금자] 비포 선라이즈</td>\n",
       "      <td>시월</td>\n",
       "      <td>https://paganiniana.postype.com/post/6167155</td>\n",
       "      <td>60</td>\n",
       "    </tr>\n",
       "    <tr>\n",
       "      <th>3</th>\n",
       "      <td>[금자희재/희재금자] 세상에서 제일 어려운 건</td>\n",
       "      <td>시월</td>\n",
       "      <td>https://paganiniana.postype.com/post/6152100</td>\n",
       "      <td>58</td>\n",
       "    </tr>\n",
       "    <tr>\n",
       "      <th>4</th>\n",
       "      <td>충忠</td>\n",
       "      <td>SAND</td>\n",
       "      <td>https://ampersand0905.postype.com/post/6460304</td>\n",
       "      <td>57</td>\n",
       "    </tr>\n",
       "    <tr>\n",
       "      <th>5</th>\n",
       "      <td>[금자희재/희재금자] 0310</td>\n",
       "      <td>시월</td>\n",
       "      <td>https://paganiniana.postype.com/post/6107554</td>\n",
       "      <td>57</td>\n",
       "    </tr>\n",
       "    <tr>\n",
       "      <th>6</th>\n",
       "      <td>[금자희재] 드레스를 입은 밤</td>\n",
       "      <td>이즈</td>\n",
       "      <td>https://if-yourworld-fallsapart.postype.com/po...</td>\n",
       "      <td>54</td>\n",
       "    </tr>\n",
       "    <tr>\n",
       "      <th>7</th>\n",
       "      <td>[금자희재/희재금자] 사계 (1)</td>\n",
       "      <td>시월</td>\n",
       "      <td>https://paganiniana.postype.com/post/6130292</td>\n",
       "      <td>54</td>\n",
       "    </tr>\n",
       "    <tr>\n",
       "      <th>8</th>\n",
       "      <td>금자의 세계</td>\n",
       "      <td>윤나무</td>\n",
       "      <td>https://bubbledreamer.postype.com/post/6482887</td>\n",
       "      <td>53</td>\n",
       "    </tr>\n",
       "    <tr>\n",
       "      <th>9</th>\n",
       "      <td>[연홍이창/금자희재] 인因 (1)</td>\n",
       "      <td>이즈</td>\n",
       "      <td>https://if-yourworld-fallsapart.postype.com/po...</td>\n",
       "      <td>52</td>\n",
       "    </tr>\n",
       "  </tbody>\n",
       "</table>\n",
       "</div>"
      ],
      "text/plain": [
       "                       title writer  \\\n",
       "0                   하이에나 (1)      칸   \n",
       "1                  [금자희재] HB     이즈   \n",
       "2        [금자희재/희재금자] 비포 선라이즈     시월   \n",
       "3  [금자희재/희재금자] 세상에서 제일 어려운 건     시월   \n",
       "4                         충忠   SAND   \n",
       "5           [금자희재/희재금자] 0310     시월   \n",
       "6           [금자희재] 드레스를 입은 밤     이즈   \n",
       "7         [금자희재/희재금자] 사계 (1)     시월   \n",
       "8                     금자의 세계    윤나무   \n",
       "9         [연홍이창/금자희재] 인因 (1)     이즈   \n",
       "\n",
       "                                                 url  likes  \n",
       "0          https://hykanena.postype.com/post/6574551     61  \n",
       "1  https://if-yourworld-fallsapart.postype.com/po...     61  \n",
       "2       https://paganiniana.postype.com/post/6167155     60  \n",
       "3       https://paganiniana.postype.com/post/6152100     58  \n",
       "4     https://ampersand0905.postype.com/post/6460304     57  \n",
       "5       https://paganiniana.postype.com/post/6107554     57  \n",
       "6  https://if-yourworld-fallsapart.postype.com/po...     54  \n",
       "7       https://paganiniana.postype.com/post/6130292     54  \n",
       "8     https://bubbledreamer.postype.com/post/6482887     53  \n",
       "9  https://if-yourworld-fallsapart.postype.com/po...     52  "
      ]
     },
     "execution_count": 2,
     "metadata": {},
     "output_type": "execute_result"
    }
   ],
   "source": [
    "# value_count는 한 column 내 어떤 값들이 있는지 분석하는 데 매우 유용하다.\n",
    "# 이를 dict로 변경해 사용하는 것도 가능하다.\n",
    "\n",
    "# 라이브러리 불러오기\n",
    "import pandas as pd\n",
    "\n",
    "# 데이터 불러오기\n",
    "# 이전에 크롤링해둔 데이터를 사용한다.\n",
    "sample_df = pd.read_csv('postype_crawling.csv', encoding='cp949', index_col=0)\n",
    "sample_df.head(10)"
   ]
  },
  {
   "cell_type": "code",
   "execution_count": 9,
   "metadata": {},
   "outputs": [
    {
     "data": {
      "text/plain": [
       "이즈                14\n",
       "시월                10\n",
       "SAND               8\n",
       "Turkish Coffee     3\n",
       "자염                 3\n",
       "Hjern              3\n",
       "윤나무                3\n",
       "칸                  2\n",
       "로디                 1\n",
       "기록의제이              1\n",
       "Name: writer, dtype: int64"
      ]
     },
     "execution_count": 9,
     "metadata": {},
     "output_type": "execute_result"
    }
   ],
   "source": [
    "# ['writer'] 열의 value count\n",
    "vc = sample_df['writer'].value_counts()\n",
    "vc"
   ]
  },
  {
   "cell_type": "code",
   "execution_count": 8,
   "metadata": {},
   "outputs": [
    {
     "data": {
      "text/plain": [
       "{'이즈': 14,\n",
       " '시월': 10,\n",
       " 'SAND': 8,\n",
       " 'Turkish Coffee': 3,\n",
       " '자염': 3,\n",
       " 'Hjern': 3,\n",
       " '윤나무': 3,\n",
       " '칸': 2,\n",
       " '로디': 1,\n",
       " '기록의제이': 1}"
      ]
     },
     "execution_count": 8,
     "metadata": {},
     "output_type": "execute_result"
    }
   ],
   "source": [
    "# dict로 변환\n",
    "writer_dict = dict(vc)\n",
    "writer_dict"
   ]
  },
  {
   "cell_type": "code",
   "execution_count": 11,
   "metadata": {},
   "outputs": [
    {
     "data": {
      "text/plain": [
       "dict_keys(['이즈', '시월', 'SAND', 'Turkish Coffee', '자염', 'Hjern', '윤나무', '칸', '로디', '기록의제이'])"
      ]
     },
     "execution_count": 11,
     "metadata": {},
     "output_type": "execute_result"
    }
   ],
   "source": [
    "writer_dict.keys()"
   ]
  },
  {
   "cell_type": "code",
   "execution_count": 12,
   "metadata": {},
   "outputs": [
    {
     "data": {
      "text/plain": [
       "dict_values([14, 10, 8, 3, 3, 3, 3, 2, 1, 1])"
      ]
     },
     "execution_count": 12,
     "metadata": {},
     "output_type": "execute_result"
    }
   ],
   "source": [
    "writer_dict.values()"
   ]
  },
  {
   "cell_type": "code",
   "execution_count": null,
   "metadata": {},
   "outputs": [],
   "source": []
  }
 ],
 "metadata": {
  "kernelspec": {
   "display_name": "Python 3",
   "language": "python",
   "name": "python3"
  },
  "language_info": {
   "codemirror_mode": {
    "name": "ipython",
    "version": 3
   },
   "file_extension": ".py",
   "mimetype": "text/x-python",
   "name": "python",
   "nbconvert_exporter": "python",
   "pygments_lexer": "ipython3",
   "version": "3.7.3"
  }
 },
 "nbformat": 4,
 "nbformat_minor": 2
}
