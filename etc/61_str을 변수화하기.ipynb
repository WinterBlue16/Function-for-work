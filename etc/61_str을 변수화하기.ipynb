{
 "cells": [
  {
   "cell_type": "markdown",
   "metadata": {},
   "source": [
    "# str를 변수화하기\n",
    "> 데이터프레임 혹은 다른 자료형의 데이터들을 동적 변수로 분리할 때, 하드 코딩이 번거로울 정도로 많은 변수가 생겨나게 된다. 이러한 변수들을 다룰 때 시간을 절약할 수 있는 방법으로 for문과 eval함수를 이용할 수 있다. \n",
    "\n",
    ">단, 이 방법으로 다수의 변수를 다루기 위해서는 변수들의 형태가 규칙적이며 숫자가 포함되었을 때 한정이다.\n"
   ]
  },
  {
   "cell_type": "code",
   "execution_count": 26,
   "metadata": {},
   "outputs": [],
   "source": [
    "# 라이브러리 불러오기 \n",
    "import pandas as pd\n",
    "import random\n",
    "import sys"
   ]
  },
  {
   "cell_type": "code",
   "execution_count": 27,
   "metadata": {},
   "outputs": [],
   "source": [
    "# 난수(random)와 동적 변수를 활용하여 샘플들을 만든다\n",
    "mod = sys.modules[__name__]\n",
    "\n",
    "for i in range(20):\n",
    "    setattr(mod, 'li_{}'.format(i), [random.randint(i,100) for j in range(20)]) # i부터 100까지의 수 중 랜덤으로 20개의 수를 선택"
   ]
  },
  {
   "cell_type": "code",
   "execution_count": 28,
   "metadata": {
    "scrolled": true
   },
   "outputs": [
    {
     "data": {
      "text/plain": [
       "[94,\n",
       " 62,\n",
       " 49,\n",
       " 22,\n",
       " 70,\n",
       " 31,\n",
       " 44,\n",
       " 70,\n",
       " 40,\n",
       " 30,\n",
       " 91,\n",
       " 44,\n",
       " 42,\n",
       " 27,\n",
       " 85,\n",
       " 29,\n",
       " 24,\n",
       " 60,\n",
       " 84,\n",
       " 97]"
      ]
     },
     "execution_count": 28,
     "metadata": {},
     "output_type": "execute_result"
    }
   ],
   "source": [
    "# 생성된 리스트 확인\n",
    "li_19"
   ]
  },
  {
   "cell_type": "code",
   "execution_count": 29,
   "metadata": {
    "scrolled": true
   },
   "outputs": [
    {
     "data": {
      "text/plain": [
       "['li_0',\n",
       " 'li_1',\n",
       " 'li_2',\n",
       " 'li_3',\n",
       " 'li_4',\n",
       " 'li_5',\n",
       " 'li_6',\n",
       " 'li_7',\n",
       " 'li_8',\n",
       " 'li_9',\n",
       " 'li_10',\n",
       " 'li_11',\n",
       " 'li_12',\n",
       " 'li_13',\n",
       " 'li_14',\n",
       " 'li_15',\n",
       " 'li_16',\n",
       " 'li_17',\n",
       " 'li_18',\n",
       " 'li_19']"
      ]
     },
     "execution_count": 29,
     "metadata": {},
     "output_type": "execute_result"
    }
   ],
   "source": [
    "# 리스트의 이름 모으기\n",
    "li_name = []\n",
    "for i in range(20):\n",
    "    li_name.append('li_{}'.format(i))\n",
    "    \n",
    "li_name"
   ]
  },
  {
   "cell_type": "code",
   "execution_count": 30,
   "metadata": {},
   "outputs": [
    {
     "data": {
      "text/plain": [
       "[94,\n",
       " 62,\n",
       " 49,\n",
       " 22,\n",
       " 70,\n",
       " 31,\n",
       " 44,\n",
       " 70,\n",
       " 40,\n",
       " 30,\n",
       " 91,\n",
       " 44,\n",
       " 42,\n",
       " 27,\n",
       " 85,\n",
       " 29,\n",
       " 24,\n",
       " 60,\n",
       " 84,\n",
       " 97]"
      ]
     },
     "execution_count": 30,
     "metadata": {},
     "output_type": "execute_result"
    }
   ],
   "source": [
    "# 평범한 str로 리스트 호출하기\n",
    "# 방법 1\n",
    "eval(li_name[19])\n",
    "\n",
    "# 방법 2\n",
    "eval('li_19')"
   ]
  },
  {
   "cell_type": "code",
   "execution_count": 31,
   "metadata": {},
   "outputs": [
    {
     "data": {
      "text/plain": [
       "['싯다르타', '무함마드', '그리스도']"
      ]
     },
     "execution_count": 31,
     "metadata": {},
     "output_type": "execute_result"
    }
   ],
   "source": [
    "# str 리스트로 시험해보기\n",
    "str_li = ['싯다르타', '무함마드', '그리스도']\n",
    "just_str = 'str_li'\n",
    "\n",
    "eval(just_str)"
   ]
  },
  {
   "cell_type": "code",
   "execution_count": null,
   "metadata": {},
   "outputs": [],
   "source": []
  }
 ],
 "metadata": {
  "kernelspec": {
   "display_name": "Python 3",
   "language": "python",
   "name": "python3"
  },
  "language_info": {
   "codemirror_mode": {
    "name": "ipython",
    "version": 3
   },
   "file_extension": ".py",
   "mimetype": "text/x-python",
   "name": "python",
   "nbconvert_exporter": "python",
   "pygments_lexer": "ipython3",
   "version": "3.7.3"
  }
 },
 "nbformat": 4,
 "nbformat_minor": 2
}
