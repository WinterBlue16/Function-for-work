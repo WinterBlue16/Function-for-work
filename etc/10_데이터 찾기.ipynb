{
 "cells": [
  {
   "cell_type": "code",
   "execution_count": 3,
   "metadata": {},
   "outputs": [
    {
     "name": "stdout",
     "output_type": "stream",
     "text": [
      "Requirement already satisfied: yahoo-finance in c:\\users\\student\\anaconda3\\lib\\site-packages (1.4.0)\n",
      "Requirement already satisfied: pytz in c:\\users\\student\\anaconda3\\lib\\site-packages (from yahoo-finance) (2018.9)\n",
      "Requirement already satisfied: simplejson in c:\\users\\student\\anaconda3\\lib\\site-packages (from yahoo-finance) (3.17.0)\n",
      "Collecting pandas-datareader\n",
      "  Downloading https://files.pythonhosted.org/packages/14/52/accb990baebe0063977f26e02df36aa7eb4015ed4e86f828cd76273cd6f1/pandas_datareader-0.8.1-py2.py3-none-any.whl (107kB)\n",
      "Requirement already satisfied: lxml in c:\\users\\student\\anaconda3\\lib\\site-packages (from pandas-datareader) (4.3.2)\n",
      "Requirement already satisfied: pandas>=0.21 in c:\\users\\student\\anaconda3\\lib\\site-packages (from pandas-datareader) (0.24.2)\n",
      "Requirement already satisfied: requests>=2.3.0 in c:\\users\\student\\anaconda3\\lib\\site-packages (from pandas-datareader) (2.11.1)\n",
      "Requirement already satisfied: python-dateutil>=2.5.0 in c:\\users\\student\\anaconda3\\lib\\site-packages (from pandas>=0.21->pandas-datareader) (2.8.0)\n",
      "Requirement already satisfied: numpy>=1.12.0 in c:\\users\\student\\anaconda3\\lib\\site-packages (from pandas>=0.21->pandas-datareader) (1.16.2)\n",
      "Requirement already satisfied: pytz>=2011k in c:\\users\\student\\anaconda3\\lib\\site-packages (from pandas>=0.21->pandas-datareader) (2018.9)\n",
      "Requirement already satisfied: six>=1.5 in c:\\users\\student\\anaconda3\\lib\\site-packages (from python-dateutil>=2.5.0->pandas>=0.21->pandas-datareader) (1.12.0)\n",
      "Installing collected packages: pandas-datareader\n",
      "Successfully installed pandas-datareader-0.8.1\n"
     ]
    }
   ],
   "source": [
    "!pip install yahoo-finance\n",
    "!pip install pandas-datareader"
   ]
  },
  {
   "cell_type": "code",
   "execution_count": 38,
   "metadata": {
    "scrolled": true
   },
   "outputs": [
    {
     "name": "stdout",
     "output_type": "stream",
     "text": [
      "               High      Low     Open    Close      Volume   Adj Close\n",
      "Date                                                                  \n",
      "2015-05-04  28460.0  27940.0  28140.0  28000.0   8283700.0  271.535034\n",
      "2015-05-06  27820.0  27120.0  27800.0  27240.0  13270500.0  264.164825\n",
      "2015-05-07  27500.0  27080.0  27240.0  27400.0  10257400.0  265.716461\n",
      "2015-05-08  27400.0  26760.0  27320.0  26760.0   9488100.0  259.509918\n",
      "2015-05-11  27200.0  26720.0  27200.0  26720.0   9640450.0  259.122040\n",
      "               High      Low     Open    Close      Volume  Adj Close\n",
      "Date                                                                 \n",
      "2020-01-31  58400.0  56400.0  57800.0  56400.0  19749457.0    56400.0\n",
      "2020-02-03  57400.0  55200.0  55500.0  57200.0  23995260.0    57200.0\n",
      "2020-02-04  59000.0  56800.0  57100.0  58900.0  21800192.0    58900.0\n",
      "2020-02-05  60200.0  58900.0  60000.0  59500.0  19278165.0    59500.0\n",
      "2020-02-06  61100.0  59700.0  60100.0  61100.0  14727159.0    61100.0\n"
     ]
    }
   ],
   "source": [
    "from pandas_datareader import data\n",
    "df = data.DataReader('005930.KS','yahoo','2015-05-04','2020-02-06')\n",
    "print(df.head())\n",
    "print(df.tail())"
   ]
  },
  {
   "cell_type": "code",
   "execution_count": 39,
   "metadata": {},
   "outputs": [
    {
     "name": "stderr",
     "output_type": "stream",
     "text": [
      "C:\\Users\\student\\Anaconda3\\lib\\site-packages\\pandas\\core\\frame.py:4025: SettingWithCopyWarning: \n",
      "A value is trying to be set on a copy of a slice from a DataFrame\n",
      "\n",
      "See the caveats in the documentation: http://pandas.pydata.org/pandas-docs/stable/indexing.html#indexing-view-versus-copy\n",
      "  return super(DataFrame, self).rename(**kwargs)\n"
     ]
    }
   ],
   "source": [
    "df1 = df[['High', 'Low', 'Open', 'Close']]\n",
    "df1.rename(columns={'High': '고가', \n",
    "                          'Low': '저가', \n",
    "                          'Open' : '시가', \n",
    "                          'Close' : '종가', \n",
    "                          }, inplace=True)"
   ]
  },
  {
   "cell_type": "code",
   "execution_count": 40,
   "metadata": {},
   "outputs": [
    {
     "data": {
      "text/html": [
       "<div>\n",
       "<style scoped>\n",
       "    .dataframe tbody tr th:only-of-type {\n",
       "        vertical-align: middle;\n",
       "    }\n",
       "\n",
       "    .dataframe tbody tr th {\n",
       "        vertical-align: top;\n",
       "    }\n",
       "\n",
       "    .dataframe thead th {\n",
       "        text-align: right;\n",
       "    }\n",
       "</style>\n",
       "<table border=\"1\" class=\"dataframe\">\n",
       "  <thead>\n",
       "    <tr style=\"text-align: right;\">\n",
       "      <th></th>\n",
       "      <th>고가</th>\n",
       "      <th>저가</th>\n",
       "      <th>시가</th>\n",
       "      <th>종가</th>\n",
       "    </tr>\n",
       "    <tr>\n",
       "      <th>Date</th>\n",
       "      <th></th>\n",
       "      <th></th>\n",
       "      <th></th>\n",
       "      <th></th>\n",
       "    </tr>\n",
       "  </thead>\n",
       "  <tbody>\n",
       "    <tr>\n",
       "      <th>2015-05-04</th>\n",
       "      <td>28460.0</td>\n",
       "      <td>27940.0</td>\n",
       "      <td>28140.0</td>\n",
       "      <td>28000.0</td>\n",
       "    </tr>\n",
       "    <tr>\n",
       "      <th>2015-05-06</th>\n",
       "      <td>27820.0</td>\n",
       "      <td>27120.0</td>\n",
       "      <td>27800.0</td>\n",
       "      <td>27240.0</td>\n",
       "    </tr>\n",
       "    <tr>\n",
       "      <th>2015-05-07</th>\n",
       "      <td>27500.0</td>\n",
       "      <td>27080.0</td>\n",
       "      <td>27240.0</td>\n",
       "      <td>27400.0</td>\n",
       "    </tr>\n",
       "    <tr>\n",
       "      <th>2015-05-08</th>\n",
       "      <td>27400.0</td>\n",
       "      <td>26760.0</td>\n",
       "      <td>27320.0</td>\n",
       "      <td>26760.0</td>\n",
       "    </tr>\n",
       "    <tr>\n",
       "      <th>2015-05-11</th>\n",
       "      <td>27200.0</td>\n",
       "      <td>26720.0</td>\n",
       "      <td>27200.0</td>\n",
       "      <td>26720.0</td>\n",
       "    </tr>\n",
       "  </tbody>\n",
       "</table>\n",
       "</div>"
      ],
      "text/plain": [
       "                 고가       저가       시가       종가\n",
       "Date                                          \n",
       "2015-05-04  28460.0  27940.0  28140.0  28000.0\n",
       "2015-05-06  27820.0  27120.0  27800.0  27240.0\n",
       "2015-05-07  27500.0  27080.0  27240.0  27400.0\n",
       "2015-05-08  27400.0  26760.0  27320.0  26760.0\n",
       "2015-05-11  27200.0  26720.0  27200.0  26720.0"
      ]
     },
     "execution_count": 40,
     "metadata": {},
     "output_type": "execute_result"
    }
   ],
   "source": [
    "df1.head()"
   ]
  },
  {
   "cell_type": "code",
   "execution_count": 41,
   "metadata": {},
   "outputs": [],
   "source": [
    "df1.to_csv(\"samsung_1.csv\",encoding='cp949', mode='w')"
   ]
  },
  {
   "cell_type": "code",
   "execution_count": 16,
   "metadata": {},
   "outputs": [
    {
     "name": "stdout",
     "output_type": "stream",
     "text": [
      "             High    Low   Open  Close    Volume  Adj Close\n",
      "Date                                                       \n",
      "2020-02-03  57400  55200  55500  57200  23995260      57200\n",
      "2020-02-04  59000  56800  57100  58900  21800192      58900\n",
      "2020-02-05  60200  58900  60000  59500  19278165      59500\n",
      "2020-02-06  61100  59700  60100  61100  14727159      61100\n",
      "             High    Low   Open  Close    Volume  Adj Close\n",
      "Date                                                       \n",
      "2020-02-03  57400  55200  55500  57200  23995260      57200\n",
      "2020-02-04  59000  56800  57100  58900  21800192      58900\n",
      "2020-02-05  60200  58900  60000  59500  19278165      59500\n",
      "2020-02-06  61100  59700  60100  61100  14727159      61100\n"
     ]
    }
   ],
   "source": [
    "df2 = data.DataReader('005930.KS','yahoo','2020-02-03','2020-02-06')\n",
    "print(df2.head())"
   ]
  },
  {
   "cell_type": "code",
   "execution_count": 29,
   "metadata": {},
   "outputs": [
    {
     "ename": "KeyError",
     "evalue": "\"None of [Index(['High', 'Low', 'Open', 'Close', 'Volume'], dtype='object')] are in the [columns]\"",
     "output_type": "error",
     "traceback": [
      "\u001b[1;31m---------------------------------------------------------------------------\u001b[0m",
      "\u001b[1;31mKeyError\u001b[0m                                  Traceback (most recent call last)",
      "\u001b[1;32m<ipython-input-29-2fda05da31c0>\u001b[0m in \u001b[0;36m<module>\u001b[1;34m\u001b[0m\n\u001b[1;32m----> 1\u001b[1;33m \u001b[0mdf2\u001b[0m \u001b[1;33m=\u001b[0m \u001b[0mdf2\u001b[0m\u001b[1;33m[\u001b[0m\u001b[1;33m[\u001b[0m\u001b[1;34m'High'\u001b[0m\u001b[1;33m,\u001b[0m \u001b[1;34m'Low'\u001b[0m\u001b[1;33m,\u001b[0m \u001b[1;34m'Open'\u001b[0m\u001b[1;33m,\u001b[0m \u001b[1;34m'Close'\u001b[0m\u001b[1;33m,\u001b[0m \u001b[1;34m'Volume'\u001b[0m\u001b[1;33m]\u001b[0m\u001b[1;33m]\u001b[0m\u001b[1;33m\u001b[0m\u001b[1;33m\u001b[0m\u001b[0m\n\u001b[0m\u001b[0;32m      2\u001b[0m df2.rename(columns={'High': '고가', \n\u001b[0;32m      3\u001b[0m                           \u001b[1;34m'Low'\u001b[0m\u001b[1;33m:\u001b[0m \u001b[1;34m'저가'\u001b[0m\u001b[1;33m,\u001b[0m\u001b[1;33m\u001b[0m\u001b[1;33m\u001b[0m\u001b[0m\n\u001b[0;32m      4\u001b[0m                           \u001b[1;34m'Open'\u001b[0m \u001b[1;33m:\u001b[0m \u001b[1;34m'시가'\u001b[0m\u001b[1;33m,\u001b[0m\u001b[1;33m\u001b[0m\u001b[1;33m\u001b[0m\u001b[0m\n\u001b[0;32m      5\u001b[0m                           \u001b[1;34m'Close'\u001b[0m \u001b[1;33m:\u001b[0m \u001b[1;34m'종가'\u001b[0m\u001b[1;33m,\u001b[0m\u001b[1;33m\u001b[0m\u001b[1;33m\u001b[0m\u001b[0m\n",
      "\u001b[1;32m~\\Anaconda3\\lib\\site-packages\\pandas\\core\\frame.py\u001b[0m in \u001b[0;36m__getitem__\u001b[1;34m(self, key)\u001b[0m\n\u001b[0;32m   2932\u001b[0m                 \u001b[0mkey\u001b[0m \u001b[1;33m=\u001b[0m \u001b[0mlist\u001b[0m\u001b[1;33m(\u001b[0m\u001b[0mkey\u001b[0m\u001b[1;33m)\u001b[0m\u001b[1;33m\u001b[0m\u001b[1;33m\u001b[0m\u001b[0m\n\u001b[0;32m   2933\u001b[0m             indexer = self.loc._convert_to_indexer(key, axis=1,\n\u001b[1;32m-> 2934\u001b[1;33m                                                    raise_missing=True)\n\u001b[0m\u001b[0;32m   2935\u001b[0m \u001b[1;33m\u001b[0m\u001b[0m\n\u001b[0;32m   2936\u001b[0m         \u001b[1;31m# take() does not accept boolean indexers\u001b[0m\u001b[1;33m\u001b[0m\u001b[1;33m\u001b[0m\u001b[1;33m\u001b[0m\u001b[0m\n",
      "\u001b[1;32m~\\Anaconda3\\lib\\site-packages\\pandas\\core\\indexing.py\u001b[0m in \u001b[0;36m_convert_to_indexer\u001b[1;34m(self, obj, axis, is_setter, raise_missing)\u001b[0m\n\u001b[0;32m   1352\u001b[0m                 kwargs = {'raise_missing': True if is_setter else\n\u001b[0;32m   1353\u001b[0m                           raise_missing}\n\u001b[1;32m-> 1354\u001b[1;33m                 \u001b[1;32mreturn\u001b[0m \u001b[0mself\u001b[0m\u001b[1;33m.\u001b[0m\u001b[0m_get_listlike_indexer\u001b[0m\u001b[1;33m(\u001b[0m\u001b[0mobj\u001b[0m\u001b[1;33m,\u001b[0m \u001b[0maxis\u001b[0m\u001b[1;33m,\u001b[0m \u001b[1;33m**\u001b[0m\u001b[0mkwargs\u001b[0m\u001b[1;33m)\u001b[0m\u001b[1;33m[\u001b[0m\u001b[1;36m1\u001b[0m\u001b[1;33m]\u001b[0m\u001b[1;33m\u001b[0m\u001b[1;33m\u001b[0m\u001b[0m\n\u001b[0m\u001b[0;32m   1355\u001b[0m         \u001b[1;32melse\u001b[0m\u001b[1;33m:\u001b[0m\u001b[1;33m\u001b[0m\u001b[1;33m\u001b[0m\u001b[0m\n\u001b[0;32m   1356\u001b[0m             \u001b[1;32mtry\u001b[0m\u001b[1;33m:\u001b[0m\u001b[1;33m\u001b[0m\u001b[1;33m\u001b[0m\u001b[0m\n",
      "\u001b[1;32m~\\Anaconda3\\lib\\site-packages\\pandas\\core\\indexing.py\u001b[0m in \u001b[0;36m_get_listlike_indexer\u001b[1;34m(self, key, axis, raise_missing)\u001b[0m\n\u001b[0;32m   1159\u001b[0m         self._validate_read_indexer(keyarr, indexer,\n\u001b[0;32m   1160\u001b[0m                                     \u001b[0mo\u001b[0m\u001b[1;33m.\u001b[0m\u001b[0m_get_axis_number\u001b[0m\u001b[1;33m(\u001b[0m\u001b[0maxis\u001b[0m\u001b[1;33m)\u001b[0m\u001b[1;33m,\u001b[0m\u001b[1;33m\u001b[0m\u001b[1;33m\u001b[0m\u001b[0m\n\u001b[1;32m-> 1161\u001b[1;33m                                     raise_missing=raise_missing)\n\u001b[0m\u001b[0;32m   1162\u001b[0m         \u001b[1;32mreturn\u001b[0m \u001b[0mkeyarr\u001b[0m\u001b[1;33m,\u001b[0m \u001b[0mindexer\u001b[0m\u001b[1;33m\u001b[0m\u001b[1;33m\u001b[0m\u001b[0m\n\u001b[0;32m   1163\u001b[0m \u001b[1;33m\u001b[0m\u001b[0m\n",
      "\u001b[1;32m~\\Anaconda3\\lib\\site-packages\\pandas\\core\\indexing.py\u001b[0m in \u001b[0;36m_validate_read_indexer\u001b[1;34m(self, key, indexer, axis, raise_missing)\u001b[0m\n\u001b[0;32m   1244\u001b[0m                 raise KeyError(\n\u001b[0;32m   1245\u001b[0m                     u\"None of [{key}] are in the [{axis}]\".format(\n\u001b[1;32m-> 1246\u001b[1;33m                         key=key, axis=self.obj._get_axis_name(axis)))\n\u001b[0m\u001b[0;32m   1247\u001b[0m \u001b[1;33m\u001b[0m\u001b[0m\n\u001b[0;32m   1248\u001b[0m             \u001b[1;31m# We (temporarily) allow for some missing keys with .loc, except in\u001b[0m\u001b[1;33m\u001b[0m\u001b[1;33m\u001b[0m\u001b[1;33m\u001b[0m\u001b[0m\n",
      "\u001b[1;31mKeyError\u001b[0m: \"None of [Index(['High', 'Low', 'Open', 'Close', 'Volume'], dtype='object')] are in the [columns]\""
     ]
    }
   ],
   "source": [
    "df2 = df2[['High', 'Low', 'Open', 'Close']]\n",
    "df2.rename(columns={'High': '고가', \n",
    "                          'Low': '저가', \n",
    "                          'Open' : '시가', \n",
    "                          'Close' : '종가', \n",
    "                          'Volume' : '거래량'}, inplace=True)"
   ]
  },
  {
   "cell_type": "code",
   "execution_count": 30,
   "metadata": {},
   "outputs": [
    {
     "data": {
      "text/html": [
       "<div>\n",
       "<style scoped>\n",
       "    .dataframe tbody tr th:only-of-type {\n",
       "        vertical-align: middle;\n",
       "    }\n",
       "\n",
       "    .dataframe tbody tr th {\n",
       "        vertical-align: top;\n",
       "    }\n",
       "\n",
       "    .dataframe thead th {\n",
       "        text-align: right;\n",
       "    }\n",
       "</style>\n",
       "<table border=\"1\" class=\"dataframe\">\n",
       "  <thead>\n",
       "    <tr style=\"text-align: right;\">\n",
       "      <th></th>\n",
       "      <th>고가</th>\n",
       "      <th>저가</th>\n",
       "      <th>시가</th>\n",
       "      <th>종가</th>\n",
       "      <th>거래량</th>\n",
       "    </tr>\n",
       "    <tr>\n",
       "      <th>Date</th>\n",
       "      <th></th>\n",
       "      <th></th>\n",
       "      <th></th>\n",
       "      <th></th>\n",
       "      <th></th>\n",
       "    </tr>\n",
       "  </thead>\n",
       "  <tbody>\n",
       "    <tr>\n",
       "      <th>2020-02-03</th>\n",
       "      <td>57400</td>\n",
       "      <td>55200</td>\n",
       "      <td>55500</td>\n",
       "      <td>57200</td>\n",
       "      <td>23995260</td>\n",
       "    </tr>\n",
       "    <tr>\n",
       "      <th>2020-02-04</th>\n",
       "      <td>59000</td>\n",
       "      <td>56800</td>\n",
       "      <td>57100</td>\n",
       "      <td>58900</td>\n",
       "      <td>21800192</td>\n",
       "    </tr>\n",
       "    <tr>\n",
       "      <th>2020-02-05</th>\n",
       "      <td>60200</td>\n",
       "      <td>58900</td>\n",
       "      <td>60000</td>\n",
       "      <td>59500</td>\n",
       "      <td>19278165</td>\n",
       "    </tr>\n",
       "    <tr>\n",
       "      <th>2020-02-06</th>\n",
       "      <td>61100</td>\n",
       "      <td>59700</td>\n",
       "      <td>60100</td>\n",
       "      <td>61100</td>\n",
       "      <td>14727159</td>\n",
       "    </tr>\n",
       "  </tbody>\n",
       "</table>\n",
       "</div>"
      ],
      "text/plain": [
       "               고가     저가     시가     종가       거래량\n",
       "Date                                            \n",
       "2020-02-03  57400  55200  55500  57200  23995260\n",
       "2020-02-04  59000  56800  57100  58900  21800192\n",
       "2020-02-05  60200  58900  60000  59500  19278165\n",
       "2020-02-06  61100  59700  60100  61100  14727159"
      ]
     },
     "execution_count": 30,
     "metadata": {},
     "output_type": "execute_result"
    }
   ],
   "source": [
    "df2"
   ]
  },
  {
   "cell_type": "code",
   "execution_count": 38,
   "metadata": {},
   "outputs": [],
   "source": [
    "df2.to_csv(\"samsung_2.csv\",encoding='cp949', mode='w')"
   ]
  },
  {
   "cell_type": "code",
   "execution_count": 42,
   "metadata": {},
   "outputs": [
    {
     "name": "stdout",
     "output_type": "stream",
     "text": [
      "               High      Low     Open    Close      Volume  Adj Close\n",
      "Date                                                                 \n",
      "2010-02-01  15700.0  15300.0  15680.0  15540.0  25037200.0   5.622685\n",
      "2010-02-02  15800.0  15400.0  15800.0  15440.0  19677150.0   5.586504\n",
      "2010-02-03  15700.0  15360.0  15640.0  15540.0  16467700.0   5.622685\n",
      "2010-02-04  15660.0  15440.0  15500.0  15520.0  11971700.0   5.615449\n",
      "2010-02-05  15220.0  14940.0  15160.0  15000.0  25705750.0   5.427302\n",
      "2010-02-08  15080.0  14820.0  14940.0  14960.0  21891500.0   5.412830\n",
      "2010-02-09  15220.0  14840.0  14960.0  15220.0  16834200.0   5.506902\n",
      "2010-02-10  15280.0  15040.0  15260.0  15100.0  13174200.0   5.463484\n",
      "2010-02-11  15300.0  15120.0  15140.0  15260.0  13208300.0   5.521376\n",
      "2010-02-12  15340.0  14900.0  15340.0  15000.0  22879300.0   5.427302\n",
      "               High      Low     Open    Close      Volume  Adj Close\n",
      "Date                                                                 \n",
      "2020-01-22  62600.0  60400.0  60500.0  62300.0  15339565.0    62300.0\n",
      "2020-01-23  61800.0  60700.0  61800.0  60800.0  14916555.0    60800.0\n",
      "2020-01-28  59400.0  58300.0  59400.0  58800.0  23664541.0    58800.0\n",
      "2020-01-29  59700.0  58800.0  59100.0  59100.0  16446102.0    59100.0\n",
      "2020-01-30  58800.0  56800.0  58800.0  57200.0  20821939.0    57200.0\n",
      "2020-01-31  58400.0  56400.0  57800.0  56400.0  19749457.0    56400.0\n",
      "2020-02-03  57400.0  55200.0  55500.0  57200.0  23995260.0    57200.0\n",
      "2020-02-04  59000.0  56800.0  57100.0  58900.0  21800192.0    58900.0\n",
      "2020-02-05  60200.0  58900.0  60000.0  59500.0  19278165.0    59500.0\n",
      "2020-02-06  61100.0  59700.0  60100.0  61100.0  14727159.0    61100.0\n"
     ]
    }
   ],
   "source": [
    "from pandas_datareader import data\n",
    "df = data.DataReader('005930.KS','yahoo','2010-02-01','2020-02-06')\n",
    "print(df.head(10))\n",
    "print(df.tail(10))"
   ]
  },
  {
   "cell_type": "code",
   "execution_count": 44,
   "metadata": {},
   "outputs": [],
   "source": [
    "df1 = df[['High', 'Low', 'Open', 'Close', 'Volume', 'Adj Close']]\n",
    "df1.rename(columns={'High': '고가', \n",
    "                    'Low': '저가', \n",
    "                    'Open' : '시가', \n",
    "                    'Close' : '종가', \n",
    "                    'Volume' : '거래량',\n",
    "                    'Adj Close': '수정주가'}, inplace=True)\n",
    "\n",
    "df1.to_csv(\"samsung_2.csv\",encoding='cp949', mode='w')"
   ]
  },
  {
   "cell_type": "code",
   "execution_count": 1,
   "metadata": {},
   "outputs": [
    {
     "name": "stdout",
     "output_type": "stream",
     "text": [
      "Requirement already up-to-date: finance-datareader in c:\\users\\student\\anaconda3\\lib\\site-packages (0.9.0)\n",
      "Requirement already satisfied, skipping upgrade: pandas>=0.19.2 in c:\\users\\student\\anaconda3\\lib\\site-packages (from finance-datareader) (0.24.2)\n",
      "Requirement already satisfied, skipping upgrade: lxml in c:\\users\\student\\anaconda3\\lib\\site-packages (from finance-datareader) (4.3.2)\n",
      "Requirement already satisfied, skipping upgrade: requests>=2.3.0 in c:\\users\\student\\anaconda3\\lib\\site-packages (from finance-datareader) (2.11.1)\n",
      "Requirement already satisfied, skipping upgrade: requests-file in c:\\users\\student\\anaconda3\\lib\\site-packages (from finance-datareader) (1.4.3)\n",
      "Requirement already satisfied, skipping upgrade: pytz>=2011k in c:\\users\\student\\anaconda3\\lib\\site-packages (from pandas>=0.19.2->finance-datareader) (2018.9)\n",
      "Requirement already satisfied, skipping upgrade: python-dateutil>=2.5.0 in c:\\users\\student\\anaconda3\\lib\\site-packages (from pandas>=0.19.2->finance-datareader) (2.8.0)\n",
      "Requirement already satisfied, skipping upgrade: numpy>=1.12.0 in c:\\users\\student\\anaconda3\\lib\\site-packages (from pandas>=0.19.2->finance-datareader) (1.16.2)\n",
      "Requirement already satisfied, skipping upgrade: six in c:\\users\\student\\anaconda3\\lib\\site-packages (from requests-file->finance-datareader) (1.12.0)\n",
      "Note: you may need to restart the kernel to use updated packages.\n"
     ]
    }
   ],
   "source": [
    "pip install -U finance-datareader"
   ]
  },
  {
   "cell_type": "code",
   "execution_count": 21,
   "metadata": {},
   "outputs": [],
   "source": [
    "import FinanceDataReader as fdr"
   ]
  },
  {
   "cell_type": "code",
   "execution_count": 15,
   "metadata": {
    "scrolled": true
   },
   "outputs": [
    {
     "data": {
      "text/html": [
       "<div>\n",
       "<style scoped>\n",
       "    .dataframe tbody tr th:only-of-type {\n",
       "        vertical-align: middle;\n",
       "    }\n",
       "\n",
       "    .dataframe tbody tr th {\n",
       "        vertical-align: top;\n",
       "    }\n",
       "\n",
       "    .dataframe thead th {\n",
       "        text-align: right;\n",
       "    }\n",
       "</style>\n",
       "<table border=\"1\" class=\"dataframe\">\n",
       "  <thead>\n",
       "    <tr style=\"text-align: right;\">\n",
       "      <th></th>\n",
       "      <th>Close</th>\n",
       "      <th>Open</th>\n",
       "      <th>High</th>\n",
       "      <th>Low</th>\n",
       "      <th>Volume</th>\n",
       "      <th>Change</th>\n",
       "    </tr>\n",
       "    <tr>\n",
       "      <th>Date</th>\n",
       "      <th></th>\n",
       "      <th></th>\n",
       "      <th></th>\n",
       "      <th></th>\n",
       "      <th></th>\n",
       "      <th></th>\n",
       "    </tr>\n",
       "  </thead>\n",
       "  <tbody>\n",
       "    <tr>\n",
       "      <th>2010-02-01</th>\n",
       "      <td>1606.44</td>\n",
       "      <td>1603.87</td>\n",
       "      <td>1611.99</td>\n",
       "      <td>1590.80</td>\n",
       "      <td>382240000.0</td>\n",
       "      <td>0.0025</td>\n",
       "    </tr>\n",
       "    <tr>\n",
       "      <th>2010-02-02</th>\n",
       "      <td>1595.81</td>\n",
       "      <td>1618.60</td>\n",
       "      <td>1618.60</td>\n",
       "      <td>1591.24</td>\n",
       "      <td>434960000.0</td>\n",
       "      <td>-0.0066</td>\n",
       "    </tr>\n",
       "    <tr>\n",
       "      <th>2010-02-03</th>\n",
       "      <td>1615.02</td>\n",
       "      <td>1614.16</td>\n",
       "      <td>1618.86</td>\n",
       "      <td>1602.55</td>\n",
       "      <td>438150000.0</td>\n",
       "      <td>0.0120</td>\n",
       "    </tr>\n",
       "    <tr>\n",
       "      <th>2010-02-04</th>\n",
       "      <td>1616.42</td>\n",
       "      <td>1615.48</td>\n",
       "      <td>1619.37</td>\n",
       "      <td>1607.87</td>\n",
       "      <td>396780000.0</td>\n",
       "      <td>0.0009</td>\n",
       "    </tr>\n",
       "    <tr>\n",
       "      <th>2010-02-05</th>\n",
       "      <td>1567.12</td>\n",
       "      <td>1567.59</td>\n",
       "      <td>1575.16</td>\n",
       "      <td>1560.99</td>\n",
       "      <td>460770000.0</td>\n",
       "      <td>-0.0305</td>\n",
       "    </tr>\n",
       "  </tbody>\n",
       "</table>\n",
       "</div>"
      ],
      "text/plain": [
       "              Close     Open     High      Low       Volume  Change\n",
       "Date                                                               \n",
       "2010-02-01  1606.44  1603.87  1611.99  1590.80  382240000.0  0.0025\n",
       "2010-02-02  1595.81  1618.60  1618.60  1591.24  434960000.0 -0.0066\n",
       "2010-02-03  1615.02  1614.16  1618.86  1602.55  438150000.0  0.0120\n",
       "2010-02-04  1616.42  1615.48  1619.37  1607.87  396780000.0  0.0009\n",
       "2010-02-05  1567.12  1567.59  1575.16  1560.99  460770000.0 -0.0305"
      ]
     },
     "execution_count": 15,
     "metadata": {},
     "output_type": "execute_result"
    }
   ],
   "source": [
    "df = fdr.DataReader('KS11', '2010-02-01', '2020-02-06')\n",
    "df.head()"
   ]
  },
  {
   "cell_type": "code",
   "execution_count": 17,
   "metadata": {},
   "outputs": [],
   "source": [
    "df.rename(columns={'High': '고가', \n",
    "                    'Low': '저가', \n",
    "                    'Open' : '시가', \n",
    "                    'Close' : '종가', \n",
    "                    'Volume' : '거래량',\n",
    "                    'Change': '변동'}, inplace=True)\n",
    "\n",
    "df.to_csv(\"KOSPI.csv\",encoding='cp949', mode='w')"
   ]
  },
  {
   "cell_type": "code",
   "execution_count": 25,
   "metadata": {},
   "outputs": [
    {
     "data": {
      "text/html": [
       "<div>\n",
       "<style scoped>\n",
       "    .dataframe tbody tr th:only-of-type {\n",
       "        vertical-align: middle;\n",
       "    }\n",
       "\n",
       "    .dataframe tbody tr th {\n",
       "        vertical-align: top;\n",
       "    }\n",
       "\n",
       "    .dataframe thead th {\n",
       "        text-align: right;\n",
       "    }\n",
       "</style>\n",
       "<table border=\"1\" class=\"dataframe\">\n",
       "  <thead>\n",
       "    <tr style=\"text-align: right;\">\n",
       "      <th></th>\n",
       "      <th>Close</th>\n",
       "      <th>Open</th>\n",
       "      <th>High</th>\n",
       "      <th>Low</th>\n",
       "      <th>Volume</th>\n",
       "      <th>Change</th>\n",
       "    </tr>\n",
       "    <tr>\n",
       "      <th>Date</th>\n",
       "      <th></th>\n",
       "      <th></th>\n",
       "      <th></th>\n",
       "      <th></th>\n",
       "      <th></th>\n",
       "      <th></th>\n",
       "    </tr>\n",
       "  </thead>\n",
       "  <tbody>\n",
       "    <tr>\n",
       "      <th>2018-11-20</th>\n",
       "      <td>1175.0</td>\n",
       "      <td>1157.0</td>\n",
       "      <td>1208.0</td>\n",
       "      <td>1157.0</td>\n",
       "      <td>11070.0</td>\n",
       "      <td>0.0156</td>\n",
       "    </tr>\n",
       "    <tr>\n",
       "      <th>2018-11-21</th>\n",
       "      <td>1170.0</td>\n",
       "      <td>1175.0</td>\n",
       "      <td>1187.0</td>\n",
       "      <td>1165.0</td>\n",
       "      <td>9660.0</td>\n",
       "      <td>-0.0043</td>\n",
       "    </tr>\n",
       "    <tr>\n",
       "      <th>2018-11-22</th>\n",
       "      <td>1159.0</td>\n",
       "      <td>1170.0</td>\n",
       "      <td>1170.0</td>\n",
       "      <td>1158.0</td>\n",
       "      <td>4790.0</td>\n",
       "      <td>-0.0094</td>\n",
       "    </tr>\n",
       "    <tr>\n",
       "      <th>2018-11-23</th>\n",
       "      <td>1167.0</td>\n",
       "      <td>1159.0</td>\n",
       "      <td>1171.0</td>\n",
       "      <td>1159.0</td>\n",
       "      <td>6640.0</td>\n",
       "      <td>0.0069</td>\n",
       "    </tr>\n",
       "    <tr>\n",
       "      <th>2018-11-24</th>\n",
       "      <td>1184.0</td>\n",
       "      <td>1167.0</td>\n",
       "      <td>1184.0</td>\n",
       "      <td>1161.0</td>\n",
       "      <td>11440.0</td>\n",
       "      <td>0.0146</td>\n",
       "    </tr>\n",
       "  </tbody>\n",
       "</table>\n",
       "</div>"
      ],
      "text/plain": [
       "             Close    Open    High     Low   Volume  Change\n",
       "Date                                                       \n",
       "2018-11-20  1175.0  1157.0  1208.0  1157.0  11070.0  0.0156\n",
       "2018-11-21  1170.0  1175.0  1187.0  1165.0   9660.0 -0.0043\n",
       "2018-11-22  1159.0  1170.0  1170.0  1158.0   4790.0 -0.0094\n",
       "2018-11-23  1167.0  1159.0  1171.0  1159.0   6640.0  0.0069\n",
       "2018-11-24  1184.0  1167.0  1184.0  1161.0  11440.0  0.0146"
      ]
     },
     "execution_count": 25,
     "metadata": {},
     "output_type": "execute_result"
    }
   ],
   "source": [
    "df = fdr.DataReader('USD/KRW', '2010-02-01', '2020-02-06')\n",
    "df.head()"
   ]
  },
  {
   "cell_type": "code",
   "execution_count": 19,
   "metadata": {},
   "outputs": [],
   "source": [
    "df.rename(columns={'High': '고가', \n",
    "                    'Low': '저가', \n",
    "                    'Open' : '시가', \n",
    "                    'Close' : '종가', \n",
    "                    'Volume' : '거래량',\n",
    "                    'Change': '변동'}, inplace=True)\n",
    "\n",
    "df.to_csv(\"exchange_rate.csv\",encoding='cp949', mode='w')"
   ]
  },
  {
   "cell_type": "code",
   "execution_count": 26,
   "metadata": {},
   "outputs": [
    {
     "data": {
      "text/html": [
       "<div>\n",
       "<style scoped>\n",
       "    .dataframe tbody tr th:only-of-type {\n",
       "        vertical-align: middle;\n",
       "    }\n",
       "\n",
       "    .dataframe tbody tr th {\n",
       "        vertical-align: top;\n",
       "    }\n",
       "\n",
       "    .dataframe thead th {\n",
       "        text-align: right;\n",
       "    }\n",
       "</style>\n",
       "<table border=\"1\" class=\"dataframe\">\n",
       "  <thead>\n",
       "    <tr style=\"text-align: right;\">\n",
       "      <th></th>\n",
       "      <th>Close</th>\n",
       "      <th>Open</th>\n",
       "      <th>High</th>\n",
       "      <th>Low</th>\n",
       "      <th>Change</th>\n",
       "    </tr>\n",
       "    <tr>\n",
       "      <th>Date</th>\n",
       "      <th></th>\n",
       "      <th></th>\n",
       "      <th></th>\n",
       "      <th></th>\n",
       "      <th></th>\n",
       "    </tr>\n",
       "  </thead>\n",
       "  <tbody>\n",
       "    <tr>\n",
       "      <th>2010-02-01</th>\n",
       "      <td>12.8662</td>\n",
       "      <td>12.9263</td>\n",
       "      <td>13.0411</td>\n",
       "      <td>12.8147</td>\n",
       "      <td>0.0022</td>\n",
       "    </tr>\n",
       "    <tr>\n",
       "      <th>2010-02-02</th>\n",
       "      <td>12.8361</td>\n",
       "      <td>12.8642</td>\n",
       "      <td>12.8795</td>\n",
       "      <td>12.7103</td>\n",
       "      <td>-0.0023</td>\n",
       "    </tr>\n",
       "    <tr>\n",
       "      <th>2010-02-03</th>\n",
       "      <td>12.6252</td>\n",
       "      <td>12.8236</td>\n",
       "      <td>12.8351</td>\n",
       "      <td>12.5700</td>\n",
       "      <td>-0.0164</td>\n",
       "    </tr>\n",
       "    <tr>\n",
       "      <th>2010-02-04</th>\n",
       "      <td>12.8880</td>\n",
       "      <td>12.6165</td>\n",
       "      <td>12.9519</td>\n",
       "      <td>12.6010</td>\n",
       "      <td>0.0208</td>\n",
       "    </tr>\n",
       "    <tr>\n",
       "      <th>2010-02-05</th>\n",
       "      <td>13.0940</td>\n",
       "      <td>12.8681</td>\n",
       "      <td>13.1844</td>\n",
       "      <td>12.8076</td>\n",
       "      <td>0.0160</td>\n",
       "    </tr>\n",
       "  </tbody>\n",
       "</table>\n",
       "</div>"
      ],
      "text/plain": [
       "              Close     Open     High      Low  Change\n",
       "Date                                                  \n",
       "2010-02-01  12.8662  12.9263  13.0411  12.8147  0.0022\n",
       "2010-02-02  12.8361  12.8642  12.8795  12.7103 -0.0023\n",
       "2010-02-03  12.6252  12.8236  12.8351  12.5700 -0.0164\n",
       "2010-02-04  12.8880  12.6165  12.9519  12.6010  0.0208\n",
       "2010-02-05  13.0940  12.8681  13.1844  12.8076  0.0160"
      ]
     },
     "execution_count": 26,
     "metadata": {},
     "output_type": "execute_result"
    }
   ],
   "source": [
    "# 엔은 못 씀\n",
    "df = fdr.DataReader('JPY/KRW', '2010-02-01', '2020-02-06')\n",
    "df.head()"
   ]
  },
  {
   "cell_type": "code",
   "execution_count": 27,
   "metadata": {},
   "outputs": [],
   "source": [
    "df.rename(columns={'High': '고가', \n",
    "                    'Low': '저가', \n",
    "                    'Open' : '시가', \n",
    "                    'Close' : '종가', \n",
    "                    'Change': '변동'}, inplace=True)\n",
    "\n",
    "df.to_csv(\"exchange_rate(JPY).csv\",encoding='cp949', mode='w')"
   ]
  },
  {
   "cell_type": "code",
   "execution_count": 28,
   "metadata": {},
   "outputs": [
    {
     "data": {
      "text/html": [
       "<div>\n",
       "<style scoped>\n",
       "    .dataframe tbody tr th:only-of-type {\n",
       "        vertical-align: middle;\n",
       "    }\n",
       "\n",
       "    .dataframe tbody tr th {\n",
       "        vertical-align: top;\n",
       "    }\n",
       "\n",
       "    .dataframe thead th {\n",
       "        text-align: right;\n",
       "    }\n",
       "</style>\n",
       "<table border=\"1\" class=\"dataframe\">\n",
       "  <thead>\n",
       "    <tr style=\"text-align: right;\">\n",
       "      <th></th>\n",
       "      <th>Close</th>\n",
       "      <th>Open</th>\n",
       "      <th>High</th>\n",
       "      <th>Low</th>\n",
       "      <th>Change</th>\n",
       "    </tr>\n",
       "    <tr>\n",
       "      <th>Date</th>\n",
       "      <th></th>\n",
       "      <th></th>\n",
       "      <th></th>\n",
       "      <th></th>\n",
       "      <th></th>\n",
       "    </tr>\n",
       "  </thead>\n",
       "  <tbody>\n",
       "    <tr>\n",
       "      <th>2010-02-01</th>\n",
       "      <td>0.5854</td>\n",
       "      <td>0.5876</td>\n",
       "      <td>0.5876</td>\n",
       "      <td>0.5834</td>\n",
       "      <td>-0.0037</td>\n",
       "    </tr>\n",
       "    <tr>\n",
       "      <th>2010-02-02</th>\n",
       "      <td>0.5886</td>\n",
       "      <td>0.5854</td>\n",
       "      <td>0.5889</td>\n",
       "      <td>0.5854</td>\n",
       "      <td>0.0055</td>\n",
       "    </tr>\n",
       "    <tr>\n",
       "      <th>2010-02-03</th>\n",
       "      <td>0.5944</td>\n",
       "      <td>0.5886</td>\n",
       "      <td>0.5965</td>\n",
       "      <td>0.5882</td>\n",
       "      <td>0.0099</td>\n",
       "    </tr>\n",
       "    <tr>\n",
       "      <th>2010-02-04</th>\n",
       "      <td>0.5953</td>\n",
       "      <td>0.5943</td>\n",
       "      <td>0.5957</td>\n",
       "      <td>0.5929</td>\n",
       "      <td>0.0015</td>\n",
       "    </tr>\n",
       "    <tr>\n",
       "      <th>2010-02-05</th>\n",
       "      <td>0.5839</td>\n",
       "      <td>0.5955</td>\n",
       "      <td>0.5955</td>\n",
       "      <td>0.5831</td>\n",
       "      <td>-0.0192</td>\n",
       "    </tr>\n",
       "  </tbody>\n",
       "</table>\n",
       "</div>"
      ],
      "text/plain": [
       "             Close    Open    High     Low  Change\n",
       "Date                                              \n",
       "2010-02-01  0.5854  0.5876  0.5876  0.5834 -0.0037\n",
       "2010-02-02  0.5886  0.5854  0.5889  0.5854  0.0055\n",
       "2010-02-03  0.5944  0.5886  0.5965  0.5882  0.0099\n",
       "2010-02-04  0.5953  0.5943  0.5957  0.5929  0.0015\n",
       "2010-02-05  0.5839  0.5955  0.5955  0.5831 -0.0192"
      ]
     },
     "execution_count": 28,
     "metadata": {},
     "output_type": "execute_result"
    }
   ],
   "source": [
    "# 위안도 못 씀....ㅠㅠ\n",
    "df = fdr.DataReader('CNY/KRW', '2010-02-01', '2020-02-06')\n",
    "df.head()"
   ]
  },
  {
   "cell_type": "code",
   "execution_count": 29,
   "metadata": {},
   "outputs": [],
   "source": [
    "df.rename(columns={'High': '고가', \n",
    "                    'Low': '저가', \n",
    "                    'Open' : '시가', \n",
    "                    'Close' : '종가', \n",
    "                    'Change': '변동'}, inplace=True)\n",
    "\n",
    "df.to_csv(\"exchange_rate(CNY).csv\",encoding='cp949', mode='w')"
   ]
  },
  {
   "cell_type": "code",
   "execution_count": 33,
   "metadata": {},
   "outputs": [
    {
     "data": {
      "text/html": [
       "<div>\n",
       "<style scoped>\n",
       "    .dataframe tbody tr th:only-of-type {\n",
       "        vertical-align: middle;\n",
       "    }\n",
       "\n",
       "    .dataframe tbody tr th {\n",
       "        vertical-align: top;\n",
       "    }\n",
       "\n",
       "    .dataframe thead th {\n",
       "        text-align: right;\n",
       "    }\n",
       "</style>\n",
       "<table border=\"1\" class=\"dataframe\">\n",
       "  <thead>\n",
       "    <tr style=\"text-align: right;\">\n",
       "      <th></th>\n",
       "      <th>Close</th>\n",
       "      <th>Open</th>\n",
       "      <th>High</th>\n",
       "      <th>Low</th>\n",
       "      <th>Change</th>\n",
       "    </tr>\n",
       "    <tr>\n",
       "      <th>Date</th>\n",
       "      <th></th>\n",
       "      <th></th>\n",
       "      <th></th>\n",
       "      <th></th>\n",
       "      <th></th>\n",
       "    </tr>\n",
       "  </thead>\n",
       "  <tbody>\n",
       "    <tr>\n",
       "      <th>2010-02-01</th>\n",
       "      <td>150.160</td>\n",
       "      <td>149.30</td>\n",
       "      <td>151.300</td>\n",
       "      <td>149.17</td>\n",
       "      <td>0.0060</td>\n",
       "    </tr>\n",
       "    <tr>\n",
       "      <th>2010-02-02</th>\n",
       "      <td>149.365</td>\n",
       "      <td>150.08</td>\n",
       "      <td>150.215</td>\n",
       "      <td>148.78</td>\n",
       "      <td>-0.0053</td>\n",
       "    </tr>\n",
       "    <tr>\n",
       "      <th>2010-02-03</th>\n",
       "      <td>147.895</td>\n",
       "      <td>149.23</td>\n",
       "      <td>149.325</td>\n",
       "      <td>147.29</td>\n",
       "      <td>-0.0098</td>\n",
       "    </tr>\n",
       "    <tr>\n",
       "      <th>2010-02-04</th>\n",
       "      <td>147.600</td>\n",
       "      <td>147.81</td>\n",
       "      <td>148.960</td>\n",
       "      <td>147.46</td>\n",
       "      <td>-0.0020</td>\n",
       "    </tr>\n",
       "    <tr>\n",
       "      <th>2010-02-05</th>\n",
       "      <td>150.555</td>\n",
       "      <td>147.46</td>\n",
       "      <td>151.595</td>\n",
       "      <td>147.45</td>\n",
       "      <td>0.0200</td>\n",
       "    </tr>\n",
       "  </tbody>\n",
       "</table>\n",
       "</div>"
      ],
      "text/plain": [
       "              Close    Open     High     Low  Change\n",
       "Date                                                \n",
       "2010-02-01  150.160  149.30  151.300  149.17  0.0060\n",
       "2010-02-02  149.365  150.08  150.215  148.78 -0.0053\n",
       "2010-02-03  147.895  149.23  149.325  147.29 -0.0098\n",
       "2010-02-04  147.600  147.81  148.960  147.46 -0.0020\n",
       "2010-02-05  150.555  147.46  151.595  147.45  0.0200"
      ]
     },
     "execution_count": 33,
     "metadata": {},
     "output_type": "execute_result"
    }
   ],
   "source": [
    "df = fdr.DataReader('HKD/KRW', '2010-02-01', '2020-02-06')\n",
    "df.head()"
   ]
  },
  {
   "cell_type": "code",
   "execution_count": 34,
   "metadata": {},
   "outputs": [],
   "source": [
    "df.rename(columns={'High': '고가', \n",
    "                    'Low': '저가', \n",
    "                    'Open' : '시가', \n",
    "                    'Close' : '종가', \n",
    "                    'Change': '변동'}, inplace=True)\n",
    "\n",
    "df.to_csv(\"exchange_rate(HKD).csv\",encoding='cp949', mode='w')"
   ]
  },
  {
   "cell_type": "code",
   "execution_count": null,
   "metadata": {},
   "outputs": [],
   "source": []
  }
 ],
 "metadata": {
  "kernelspec": {
   "display_name": "Python 3",
   "language": "python",
   "name": "python3"
  },
  "language_info": {
   "codemirror_mode": {
    "name": "ipython",
    "version": 3
   },
   "file_extension": ".py",
   "mimetype": "text/x-python",
   "name": "python",
   "nbconvert_exporter": "python",
   "pygments_lexer": "ipython3",
   "version": "3.7.3"
  }
 },
 "nbformat": 4,
 "nbformat_minor": 2
}
