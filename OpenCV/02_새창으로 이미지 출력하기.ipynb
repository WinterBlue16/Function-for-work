{
 "cells": [
  {
   "cell_type": "markdown",
   "metadata": {},
   "source": [
    "# 01. OpenCV_imshow\n",
    "> 불러온 이미지를 새창에서 출력하는 함수이다. 이전 문서에서 imread 함수를 사용하면 jpg, png 형식의 이미지 데이터를 np.array 자료형으로 불러올 수 있다는 것을 배웠다. 그냥 출력해보았을 때는 이미지가 본래의 형식을 잃은 것처럼 보일 수 있다. imshow 함수가 이미지의 원래 형태를 출력할 수 있는지를 알아보자."
   ]
  },
  {
   "cell_type": "code",
   "execution_count": 6,
   "metadata": {
    "scrolled": true
   },
   "outputs": [
    {
     "data": {
      "text/plain": [
       "array([[[  0,   0,   0],\n",
       "        [  0,   0,   0],\n",
       "        [  0,   0,   0],\n",
       "        ...,\n",
       "        [  0,   0,   0],\n",
       "        [  0,   0,   0],\n",
       "        [  0,   0,   0]],\n",
       "\n",
       "       [[  0,   0,   0],\n",
       "        [  0,   0,   0],\n",
       "        [  0,   0,   0],\n",
       "        ...,\n",
       "        [  0,   0,   0],\n",
       "        [  0,   0,   0],\n",
       "        [  0,   0,   0]],\n",
       "\n",
       "       [[  0,   0,   0],\n",
       "        [  0,   0,   0],\n",
       "        [  0,   0,   0],\n",
       "        ...,\n",
       "        [  0,   0,   0],\n",
       "        [  0,   0,   0],\n",
       "        [  0,   0,   0]],\n",
       "\n",
       "       ...,\n",
       "\n",
       "       [[148, 148, 148],\n",
       "        [147, 147, 147],\n",
       "        [145, 145, 145],\n",
       "        ...,\n",
       "        [145, 145, 145],\n",
       "        [147, 147, 147],\n",
       "        [146, 146, 146]],\n",
       "\n",
       "       [[151, 151, 151],\n",
       "        [149, 149, 149],\n",
       "        [147, 147, 147],\n",
       "        ...,\n",
       "        [147, 147, 147],\n",
       "        [149, 149, 149],\n",
       "        [150, 150, 150]],\n",
       "\n",
       "       [[  0,   0,   0],\n",
       "        [152, 152, 152],\n",
       "        [148, 148, 148],\n",
       "        ...,\n",
       "        [147, 147, 147],\n",
       "        [152, 152, 152],\n",
       "        [  0,   0,   0]]], dtype=uint8)"
      ]
     },
     "execution_count": 6,
     "metadata": {},
     "output_type": "execute_result"
    }
   ],
   "source": [
    "# 라이브러리 불러오기\n",
    "import cv2 \n",
    "\n",
    "# 이미지 파일 불러오기\n",
    "img = cv2.imread('unnamed.png')\n",
    "img"
   ]
  },
  {
   "cell_type": "code",
   "execution_count": 7,
   "metadata": {},
   "outputs": [],
   "source": [
    "# 이미지 출력하기\n",
    "cv2.imshow('image', img)\n",
    "cv2.waitKey()\n",
    "cv2.destroyAllWindows()"
   ]
  },
  {
   "cell_type": "code",
   "execution_count": null,
   "metadata": {},
   "outputs": [],
   "source": []
  }
 ],
 "metadata": {
  "kernelspec": {
   "display_name": "Python 3",
   "language": "python",
   "name": "python3"
  },
  "language_info": {
   "codemirror_mode": {
    "name": "ipython",
    "version": 3
   },
   "file_extension": ".py",
   "mimetype": "text/x-python",
   "name": "python",
   "nbconvert_exporter": "python",
   "pygments_lexer": "ipython3",
   "version": "3.7.3"
  }
 },
 "nbformat": 4,
 "nbformat_minor": 2
}
