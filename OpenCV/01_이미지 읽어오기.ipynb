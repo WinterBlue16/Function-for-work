{
 "cells": [
  {
   "cell_type": "markdown",
   "metadata": {},
   "source": [
    "# 01. OpenCV_imread\n",
    "> 해당 파일은 OpenCV 기본을 복습하고 함수를 더 잘 활용하기 위한 문서이다.\n",
    "기초적인 함수부터 이미지 분석 및 변형까지 하나 하나 코드로 구현, 복습해보는 것이 목적이다. \n",
    "\n",
    "우선 가장 기초적인 함수이자 처리할 이미지를 불러오는 imread부터 보자."
   ]
  },
  {
   "cell_type": "code",
   "execution_count": 1,
   "metadata": {},
   "outputs": [],
   "source": [
    "# 라이브러리 불러오기\n",
    "import cv2 \n",
    "\n",
    "# 이미지 파일 불러오기\n",
    "img = cv2.imread('unnamed.png')"
   ]
  },
  {
   "cell_type": "markdown",
   "metadata": {},
   "source": [
    "imread 함수는 **이미지를 np.array 자료형으로 읽어들인다.** 딥러닝 학습에 이미지 데이터를 사용하기 위해서 np.array 자료형으로의 변환은 필수이기에 매우 중요한 함수이다. 불러들인 이미지가 어떤 모습인지 보자."
   ]
  },
  {
   "cell_type": "code",
   "execution_count": 2,
   "metadata": {},
   "outputs": [
    {
     "data": {
      "text/plain": [
       "array([[[  0,   0,   0],\n",
       "        [  0,   0,   0],\n",
       "        [  0,   0,   0],\n",
       "        ...,\n",
       "        [  0,   0,   0],\n",
       "        [  0,   0,   0],\n",
       "        [  0,   0,   0]],\n",
       "\n",
       "       [[  0,   0,   0],\n",
       "        [  0,   0,   0],\n",
       "        [  0,   0,   0],\n",
       "        ...,\n",
       "        [  0,   0,   0],\n",
       "        [  0,   0,   0],\n",
       "        [  0,   0,   0]],\n",
       "\n",
       "       [[  0,   0,   0],\n",
       "        [  0,   0,   0],\n",
       "        [  0,   0,   0],\n",
       "        ...,\n",
       "        [  0,   0,   0],\n",
       "        [  0,   0,   0],\n",
       "        [  0,   0,   0]],\n",
       "\n",
       "       ...,\n",
       "\n",
       "       [[148, 148, 148],\n",
       "        [147, 147, 147],\n",
       "        [145, 145, 145],\n",
       "        ...,\n",
       "        [145, 145, 145],\n",
       "        [147, 147, 147],\n",
       "        [146, 146, 146]],\n",
       "\n",
       "       [[151, 151, 151],\n",
       "        [149, 149, 149],\n",
       "        [147, 147, 147],\n",
       "        ...,\n",
       "        [147, 147, 147],\n",
       "        [149, 149, 149],\n",
       "        [150, 150, 150]],\n",
       "\n",
       "       [[  0,   0,   0],\n",
       "        [152, 152, 152],\n",
       "        [148, 148, 148],\n",
       "        ...,\n",
       "        [147, 147, 147],\n",
       "        [152, 152, 152],\n",
       "        [  0,   0,   0]]], dtype=uint8)"
      ]
     },
     "execution_count": 2,
     "metadata": {},
     "output_type": "execute_result"
    }
   ],
   "source": [
    "# np.array 자료형의 이미지 데이터\n",
    "img"
   ]
  },
  {
   "cell_type": "code",
   "execution_count": null,
   "metadata": {},
   "outputs": [],
   "source": []
  }
 ],
 "metadata": {
  "kernelspec": {
   "display_name": "Python 3",
   "language": "python",
   "name": "python3"
  },
  "language_info": {
   "codemirror_mode": {
    "name": "ipython",
    "version": 3
   },
   "file_extension": ".py",
   "mimetype": "text/x-python",
   "name": "python",
   "nbconvert_exporter": "python",
   "pygments_lexer": "ipython3",
   "version": "3.7.3"
  }
 },
 "nbformat": 4,
 "nbformat_minor": 2
}
