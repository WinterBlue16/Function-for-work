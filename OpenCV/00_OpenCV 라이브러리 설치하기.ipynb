{
 "cells": [
  {
   "cell_type": "markdown",
   "metadata": {},
   "source": [
    "# 00.OpenCV_라이브러리 설치하기\n",
    "> OpenCV 라이브러리를 설치한다."
   ]
  },
  {
   "cell_type": "code",
   "execution_count": 2,
   "metadata": {},
   "outputs": [
    {
     "name": "stdout",
     "output_type": "stream",
     "text": [
      "Requirement already satisfied: opencv-python in c:\\users\\user\\anaconda3\\lib\\site-packages (4.2.0.34)\n",
      "Requirement already satisfied: numpy>=1.14.5 in c:\\users\\user\\anaconda3\\lib\\site-packages (from opencv-python) (1.16.2)\n",
      "Collecting opencv-contrib-python\n",
      "  Downloading https://files.pythonhosted.org/packages/c6/a1/d0fd1ea9d5417437e6271e7f88d3ed155f64a979d3ccd926a3b21d4404dd/opencv_contrib_python-4.2.0.34-cp37-cp37m-win_amd64.whl (39.5MB)\n",
      "Requirement already satisfied: numpy>=1.14.5 in c:\\users\\user\\anaconda3\\lib\\site-packages (from opencv-contrib-python) (1.16.2)\n",
      "Installing collected packages: opencv-contrib-python\n"
     ]
    },
    {
     "name": "stderr",
     "output_type": "stream",
     "text": [
      "Could not install packages due to an EnvironmentError: [WinError 5] 액세스가 거부되었습니다: 'C:\\\\Users\\\\user\\\\Anaconda3\\\\Lib\\\\site-packages\\\\cv2\\\\cv2.cp37-win_amd64.pyd'\n",
      "Consider using the `--user` option or check the permissions.\n",
      "\n"
     ]
    }
   ],
   "source": [
    "# 라이브러리 설치하기\n",
    "!pip install opencv-python\n",
    "!pip install opencv-contrib-python "
   ]
  },
  {
   "cell_type": "code",
   "execution_count": 6,
   "metadata": {},
   "outputs": [
    {
     "name": "stdout",
     "output_type": "stream",
     "text": [
      "해당 컴퓨터의 OpenCV 버전은 4.2.0 입니다.\n"
     ]
    }
   ],
   "source": [
    "# 버전 확인하기 \n",
    "import cv2\n",
    "print('해당 컴퓨터의 OpenCV 버전은', cv2.__version__, '입니다.')"
   ]
  },
  {
   "cell_type": "code",
   "execution_count": null,
   "metadata": {},
   "outputs": [],
   "source": []
  }
 ],
 "metadata": {
  "kernelspec": {
   "display_name": "Python 3",
   "language": "python",
   "name": "python3"
  },
  "language_info": {
   "codemirror_mode": {
    "name": "ipython",
    "version": 3
   },
   "file_extension": ".py",
   "mimetype": "text/x-python",
   "name": "python",
   "nbconvert_exporter": "python",
   "pygments_lexer": "ipython3",
   "version": "3.7.3"
  }
 },
 "nbformat": 4,
 "nbformat_minor": 2
}
