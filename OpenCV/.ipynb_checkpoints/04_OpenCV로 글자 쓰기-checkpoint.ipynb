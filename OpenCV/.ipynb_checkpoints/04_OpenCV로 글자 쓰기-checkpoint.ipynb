{
 "cells": [
  {
   "cell_type": "markdown",
   "metadata": {},
   "source": [
    "# 04. OpenCV_putText\n",
    "> OpenCV를 활용해 글자를 삽입할 수 있다. 다만 글자체가 한정되어 있고 디자인적인 측면에서는 사용할 여지가 별로 없기 때문에 그리 많이 쓰이지는 않는다."
   ]
  },
  {
   "cell_type": "code",
   "execution_count": 11,
   "metadata": {},
   "outputs": [],
   "source": [
    "# 라이브러리 불러오기\n",
    "import cv2\n",
    "import numpy as np\n",
    "\n",
    "# 글을 쓸 도화지 불러오기\n",
    "canvas = np.zeros((500, 500, 3),dtype='uint8')\n",
    "\n",
    "x = 100\n",
    "y = 100\n",
    "\n",
    "# 글자 쓰기\n",
    "cv2.putText(canvas, 'HELL WORLD!', (x, y), cv2.FONT_HERSHEY_COMPLEX, 1, (255, 0, 255))\n",
    "\n",
    "# 창 열어 글자 확인하기\n",
    "cv2.imshow('word', canvas)\n",
    "cv2.waitKey(0)\n",
    "cv2.destroyAllWindows()\n"
   ]
  },
  {
   "cell_type": "code",
   "execution_count": null,
   "metadata": {},
   "outputs": [],
   "source": []
  }
 ],
 "metadata": {
  "kernelspec": {
   "display_name": "Python 3",
   "language": "python",
   "name": "python3"
  },
  "language_info": {
   "codemirror_mode": {
    "name": "ipython",
    "version": 3
   },
   "file_extension": ".py",
   "mimetype": "text/x-python",
   "name": "python",
   "nbconvert_exporter": "python",
   "pygments_lexer": "ipython3",
   "version": "3.7.3"
  }
 },
 "nbformat": 4,
 "nbformat_minor": 2
}
